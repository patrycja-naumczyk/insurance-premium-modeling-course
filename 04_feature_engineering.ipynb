{
 "cells": [
  {
   "cell_type": "markdown",
   "metadata": {},
   "source": [
    "# Setup"
   ]
  },
  {
   "cell_type": "code",
   "execution_count": null,
   "metadata": {},
   "outputs": [],
   "source": [
    "import pandas as pd\n",
    "import numpy as np\n",
    "# wizualizacje\n",
    "import seaborn as sns\n",
    "import matplotlib.pyplot as plt\n",
    "from scipy.optimize import curve_fit\n",
    "import itertools\n",
    "\n",
    "from sklearn.metrics import mutual_info_score, adjusted_mutual_info_score, normalized_mutual_info_score\n",
    "from sklearn.feature_selection import mutual_info_classif, mutual_info_regression \n",
    "from sklearn.preprocessing import OrdinalEncoder\n",
    "from sklearn.compose import ColumnTransformer\n",
    "\n",
    "# ustawienie szerokiego ekranu wyświetlacza JNotebook\n",
    "from IPython.display import display, HTML\n",
    "display(HTML(\"<style>.container { width:100% !important; }</style>\"))\n",
    "\n",
    "# opcje wyświetlania w Pandas\n",
    "# - maks. 55 kolumn\n",
    "# - maks. 101 wierszy\n",
    "# - liczby w notacji dziesiętnej z czterema zerami po przecinku\n",
    "pd.set_option('display.max_columns', 55)\n",
    "pd.set_option('display.max_rows', 101)\n",
    "pd.set_option('display.float_format', lambda x: f\"{x:.4f}\")\n",
    "\n",
    "# opcje formatowania wykresów matplotlib\n",
    "# - etykiety osi: bold\n",
    "# - tekst: bold\n",
    "# - domyślny rozmiar fontu=14\n",
    "plt.rcParams['axes.labelweight'] = 'bold'\n",
    "plt.rcParams['font.weight'] = 'bold'\n",
    "plt.rcParams['font.size'] = '14'"
   ]
  },
  {
   "cell_type": "markdown",
   "metadata": {},
   "source": [
    "# Wczytanie danych"
   ]
  },
  {
   "cell_type": "code",
   "execution_count": null,
   "metadata": {},
   "outputs": [],
   "source": [
    "# Zadanie 3\n",
    "filepath = r\"\"\n",
    "df = (\n",
    "    pd.read_csv(filepath, sep=';')\n",
    "    \n",
    "    .assign(\n",
    "        **{\n",
    "             k: lambda df_, col = k: pd.to_datetime(df_[col])\n",
    "                for k in [\n",
    "                    'Kiedy jechał*ś?'\n",
    "                ]\n",
    "        },\n",
    "        **{ k: lambda df_, col = k: pd.to_numeric(df_[col], downcast='float')\n",
    "                for k in [\n",
    "                    'Koszt podróży:'\n",
    "                ]\n",
    "        },\n",
    "        **{ k: lambda df_, col = k: pd.to_numeric(df_[col], downcast='integer')\n",
    "                for k in [\n",
    "                    'Liczba minut opóźnienia na starcie:', 'Liczba minut opóźnienia na mecie:'\n",
    "                ]\n",
    "        }\n",
    "    )\n",
    "    \n",
    "    .astype({\n",
    "        **{ k: 'string' \n",
    "               for k in [\n",
    "                   'Stacja początkowa:', 'Stacja końcowa:', 'Jak wrażenia z podróży? :D (nieobowiązkowe)', 'Uwagi (nieobowiązkowe):'\n",
    "               ]            \n",
    "        },\n",
    "        **{ k: 'category' \n",
    "               for k in [\n",
    "                   'Rodzaj pociągu:', 'Pora dnia:'\n",
    "               ]            \n",
    "        }\n",
    "    })\n",
    "    \n",
    "    .rename(columns={\n",
    "        'Kiedy jechał*ś?'         : 'data_przejazdu',\n",
    "        'Stacja początkowa:'      : 'stacja_start',\n",
    "        'Stacja końcowa:'         : 'stacja_finisz',\n",
    "        'Rodzaj pociągu:'         : 'rodzaj_pociagu',\n",
    "        'Uwagi (nieobowiązkowe):' : 'uwagi',\n",
    "        'Koszt podróży:'          : 'cena_biletu',\n",
    "        'Pora dnia:'              : 'pora_dnia_przejazdu',\n",
    "        'Liczba minut opóźnienia na starcie:' : 'opoznienie_start',\n",
    "        'Liczba minut opóźnienia na mecie:'   : 'opoznienie_finisz',\n",
    "        'Jak wrażenia z podróży? :D (nieobowiązkowe)' : 'wrazenia'\n",
    "    })\n",
    "    \n",
    "    .drop(columns=['wrazenia', 'uwagi'])\n",
    "    .drop(index=[30, 50])\n",
    "    \n",
    "    .assign(\n",
    "        pora_dnia_przejazdu = lambda df_: np.select(\n",
    "        [\n",
    "            (df_.pora_dnia_przejazdu.isnull() & df_.stacja_start.str.contains('Legionowo')).astype(bool),\n",
    "            (df_.pora_dnia_przejazdu.isnull() & df_.stacja_finisz.str.contains('Legionowo')).astype(bool),\n",
    "            (df_.pora_dnia_przejazdu.isnull() & df_.stacja_finisz.str.contains('Gdask')).astype(bool)\n",
    "        ],\n",
    "        [\n",
    "            'rano',\n",
    "            'popołudnie',\n",
    "            'popołudnie'            \n",
    "        ],\n",
    "        df_.pora_dnia_przejazdu\n",
    "    ))\n",
    "    \n",
    "    .reset_index(drop=True)\n",
    "    \n",
    "    .assign(\n",
    "        czy_szkoda = lambda df_: np.select(\n",
    "            [\n",
    "                df_.opoznienie_finisz.gt(10) & df_.opoznienie_finisz.le(40),\n",
    "                df_.opoznienie_finisz.gt(40)\n",
    "            ],\n",
    "            [\n",
    "                1,\n",
    "                2\n",
    "            ],\n",
    "            0\n",
    "        ),\n",
    "        \n",
    "        wyplata_szkoda = lambda df_: np.where(\n",
    "            df_.opoznienie_finisz.gt(10),\n",
    "            df_.cena_biletu * np.exp(df_.opoznienie_finisz.div(100)) * df_.czy_szkoda,\n",
    "            0.0\n",
    "        )\n",
    "    )\n",
    "    \n",
    "    .sort_values(by='data_przejazdu')\n",
    "    .reset_index(drop=True)\n",
    ")\n",
    "df"
   ]
  },
  {
   "cell_type": "markdown",
   "metadata": {},
   "source": [
    "# Spis treści\n",
    "1. [Feature engineering](#fe)\n",
    "2. [Informacja wzajemna](#mutual)\n",
    "\n",
    "***\n",
    "***"
   ]
  },
  {
   "cell_type": "markdown",
   "metadata": {},
   "source": [
    "# <a id='fe'>Feature engineering</a> \n",
    "1. Jakie zmiany w danych byś przeprowadził na podstawie swojej analizy eksploracyjnej? Zastosuj je rozszerzając swój łańcuch 'method chaining'\n",
    "2. Prześledź ich związek ze zmiennymi wyjaśnianymi"
   ]
  },
  {
   "cell_type": "code",
   "execution_count": null,
   "metadata": {},
   "outputs": [],
   "source": [
    "# Zadanie 2\n"
   ]
  },
  {
   "cell_type": "code",
   "execution_count": null,
   "metadata": {
    "scrolled": false
   },
   "outputs": [],
   "source": [
    "# Zadanie 2\n"
   ]
  },
  {
   "cell_type": "markdown",
   "metadata": {},
   "source": [
    "# <a id='mutual'>Informacja wzajemna</a> \n",
    "1. Policz wskaźniki informacji wzajemnej wszystkich (każda z każdą) zmiennych poprzez: \n",
    "    1. mutual_info_score, \n",
    "    2. adjusted_mutual_info_score, \n",
    "    3. normalized_mutual_info_score\n",
    "2. Policz wskaźniki informacji wzajemej wszystkich (każda z każdą) zmiennych poprzez użycie mutual_info_classif oraz mutual_info_regression\n"
   ]
  },
  {
   "cell_type": "code",
   "execution_count": null,
   "metadata": {
    "scrolled": true
   },
   "outputs": [],
   "source": [
    "# Zadanie 1A\n",
    "\n"
   ]
  },
  {
   "cell_type": "code",
   "execution_count": null,
   "metadata": {},
   "outputs": [],
   "source": [
    "# Zadanie 1B\n"
   ]
  },
  {
   "cell_type": "code",
   "execution_count": null,
   "metadata": {},
   "outputs": [],
   "source": [
    "# Zadanie 1C"
   ]
  },
  {
   "cell_type": "code",
   "execution_count": null,
   "metadata": {},
   "outputs": [],
   "source": [
    "# Zadanie 2\n",
    "# Uwaga - wykonanie zadania wymaga, aby zakodować zmienne kategorialne jako numeryczne\n",
    "# Kod poniżej dokładnie to wykonuje - dlaczego tak? będzie na przyszłych zajęciach\n",
    "\n",
    "column_trans = ColumnTransformer(\n",
    "    [\n",
    "        (\n",
    "            \"onehot_categorical\",\n",
    "            OrdinalEncoder(), [\n",
    "#                 <tu wpisz listę swoich zmiennych kategorialnych>\n",
    "            ],\n",
    "        ),\n",
    "        (\n",
    "            \"passthrough\",\n",
    "            'passthrough', [\n",
    "#                 <tu wpisz listę swoich zmiennych ciągłych>\n",
    "            ]\n",
    "        )\n",
    "    ],\n",
    "    verbose=True\n",
    ")\n",
    "\n",
    "X_coded = column_trans.fit_transform(df)\n",
    "transformer_feature_names = []\n",
    "for name, transformer, features in column_trans.transformers_:\n",
    "    if hasattr(transformer, 'get_feature_names'):\n",
    "        transformer_feature_names.extend(\n",
    "            [f\"{name}_{f}\" for f in transformer.get_feature_names(features)]\n",
    "        )\n",
    "    else:\n",
    "        transformer_feature_names.extend(features)\n",
    "df_coded = pd.DataFrame(X_coded, columns=transformer_feature_names)        \n"
   ]
  },
  {
   "cell_type": "code",
   "execution_count": null,
   "metadata": {},
   "outputs": [],
   "source": []
  },
  {
   "cell_type": "code",
   "execution_count": null,
   "metadata": {},
   "outputs": [],
   "source": []
  },
  {
   "cell_type": "code",
   "execution_count": null,
   "metadata": {},
   "outputs": [],
   "source": []
  }
 ],
 "metadata": {
  "kernelspec": {
   "display_name": "Python 3",
   "language": "python",
   "name": "python3"
  },
  "language_info": {
   "codemirror_mode": {
    "name": "ipython",
    "version": 3
   },
   "file_extension": ".py",
   "mimetype": "text/x-python",
   "name": "python",
   "nbconvert_exporter": "python",
   "pygments_lexer": "ipython3",
   "version": "3.7.4"
  }
 },
 "nbformat": 4,
 "nbformat_minor": 2
}

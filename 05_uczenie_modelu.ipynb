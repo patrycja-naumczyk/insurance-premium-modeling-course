{
 "cells": [
  {
   "cell_type": "code",
   "execution_count": 1,
   "metadata": {},
   "outputs": [
    {
     "data": {
      "text/html": [
       "<style>.container { width:100% !important; }</style>"
      ],
      "text/plain": [
       "<IPython.core.display.HTML object>"
      ]
     },
     "metadata": {},
     "output_type": "display_data"
    }
   ],
   "source": [
    "import pandas as pd\n",
    "import numpy as np\n",
    "# wizualizacje\n",
    "import seaborn as sns\n",
    "import matplotlib.pyplot as plt\n",
    "\n",
    "from sklearn.preprocessing import OrdinalEncoder, OneHotEncoder, MinMaxScaler, StandardScaler\n",
    "from sklearn.model_selection import train_test_split\n",
    "from sklearn.linear_model import PoissonRegressor, GammaRegressor\n",
    "from sklearn.dummy import DummyRegressor\n",
    "from sklearn.metrics import mean_poisson_deviance, mean_gamma_deviance, r2_score\n",
    "\n",
    "from patsy import dmatrices\n",
    "import statsmodels.api as sm\n",
    "\n",
    "# ustawienie szerokiego ekranu wyświetlacza JNotebook\n",
    "from IPython.display import display, HTML\n",
    "display(HTML(\"<style>.container { width:100% !important; }</style>\"))\n",
    "\n",
    "# opcje wyświetlania w Pandas\n",
    "# - maks. 55 kolumn\n",
    "# - maks. 101 wierszy\n",
    "# - liczby w notacji dziesiętnej z czterema zerami po przecinku\n",
    "pd.set_option('display.max_columns', 55)\n",
    "pd.set_option('display.max_rows', 101)\n",
    "pd.set_option('display.float_format', lambda x: f\"{x:.4f}\")\n",
    "\n",
    "# opcje formatowania wykresów matplotlib\n",
    "# - etykiety osi: bold\n",
    "# - tekst: bold\n",
    "# - domyślny rozmiar fontu=14\n",
    "plt.rcParams['axes.labelweight'] = 'bold'\n",
    "plt.rcParams['font.weight'] = 'bold'\n",
    "plt.rcParams['font.size'] = '14'"
   ]
  },
  {
   "cell_type": "markdown",
   "metadata": {},
   "source": [
    "# Wczytanie danych"
   ]
  },
  {
   "cell_type": "code",
   "execution_count": 2,
   "metadata": {},
   "outputs": [
    {
     "data": {
      "text/html": [
       "<div>\n",
       "<style scoped>\n",
       "    .dataframe tbody tr th:only-of-type {\n",
       "        vertical-align: middle;\n",
       "    }\n",
       "\n",
       "    .dataframe tbody tr th {\n",
       "        vertical-align: top;\n",
       "    }\n",
       "\n",
       "    .dataframe thead th {\n",
       "        text-align: right;\n",
       "    }\n",
       "</style>\n",
       "<table border=\"1\" class=\"dataframe\">\n",
       "  <thead>\n",
       "    <tr style=\"text-align: right;\">\n",
       "      <th></th>\n",
       "      <th>pora_dnia_przejazdu</th>\n",
       "      <th>dzien_tygodnia_cat</th>\n",
       "      <th>stacja_start_cat</th>\n",
       "      <th>stacja_finisz_cat</th>\n",
       "      <th>rodzaj_pociagu_cat</th>\n",
       "      <th>pora_roku_cat</th>\n",
       "      <th>opoznienie_start</th>\n",
       "      <th>czy_szkoda</th>\n",
       "      <th>wyplata_szkoda</th>\n",
       "    </tr>\n",
       "  </thead>\n",
       "  <tbody>\n",
       "    <tr>\n",
       "      <th>0</th>\n",
       "      <td>popołudnie</td>\n",
       "      <td>Thursday</td>\n",
       "      <td>Warszawa</td>\n",
       "      <td>Gdańsk</td>\n",
       "      <td>\"Zwykły\" InterCity</td>\n",
       "      <td>zima</td>\n",
       "      <td>0</td>\n",
       "      <td>1</td>\n",
       "      <td>99.7513</td>\n",
       "    </tr>\n",
       "    <tr>\n",
       "      <th>1</th>\n",
       "      <td>popołudnie</td>\n",
       "      <td>Tuesday</td>\n",
       "      <td>Gdańsk</td>\n",
       "      <td>Legionowo</td>\n",
       "      <td>\"Zwykły\" InterCity</td>\n",
       "      <td>zima</td>\n",
       "      <td>0</td>\n",
       "      <td>0</td>\n",
       "      <td>0.0000</td>\n",
       "    </tr>\n",
       "    <tr>\n",
       "      <th>2</th>\n",
       "      <td>rano</td>\n",
       "      <td>Wednesday</td>\n",
       "      <td>Legionowo</td>\n",
       "      <td>Warszawa</td>\n",
       "      <td>Podmiejski / Regionalne</td>\n",
       "      <td>zima</td>\n",
       "      <td>0</td>\n",
       "      <td>0</td>\n",
       "      <td>0.0000</td>\n",
       "    </tr>\n",
       "    <tr>\n",
       "      <th>3</th>\n",
       "      <td>popołudnie</td>\n",
       "      <td>Wednesday</td>\n",
       "      <td>Warszawa</td>\n",
       "      <td>Legionowo</td>\n",
       "      <td>Podmiejski / Regionalne</td>\n",
       "      <td>zima</td>\n",
       "      <td>0</td>\n",
       "      <td>0</td>\n",
       "      <td>0.0000</td>\n",
       "    </tr>\n",
       "    <tr>\n",
       "      <th>4</th>\n",
       "      <td>popołudnie</td>\n",
       "      <td>Thursday</td>\n",
       "      <td>Warszawa</td>\n",
       "      <td>Legionowo</td>\n",
       "      <td>Podmiejski / Regionalne</td>\n",
       "      <td>zima</td>\n",
       "      <td>3</td>\n",
       "      <td>0</td>\n",
       "      <td>0.0000</td>\n",
       "    </tr>\n",
       "    <tr>\n",
       "      <th>...</th>\n",
       "      <td>...</td>\n",
       "      <td>...</td>\n",
       "      <td>...</td>\n",
       "      <td>...</td>\n",
       "      <td>...</td>\n",
       "      <td>...</td>\n",
       "      <td>...</td>\n",
       "      <td>...</td>\n",
       "      <td>...</td>\n",
       "    </tr>\n",
       "    <tr>\n",
       "      <th>98</th>\n",
       "      <td>rano</td>\n",
       "      <td>Weekend</td>\n",
       "      <td>Gdańsk</td>\n",
       "      <td>Warszawa</td>\n",
       "      <td>Pendolino</td>\n",
       "      <td>wiosna</td>\n",
       "      <td>0</td>\n",
       "      <td>0</td>\n",
       "      <td>0.0000</td>\n",
       "    </tr>\n",
       "    <tr>\n",
       "      <th>99</th>\n",
       "      <td>popołudnie</td>\n",
       "      <td>Tuesday</td>\n",
       "      <td>Warszawa</td>\n",
       "      <td>Gdańsk</td>\n",
       "      <td>Pendolino</td>\n",
       "      <td>wiosna</td>\n",
       "      <td>0</td>\n",
       "      <td>0</td>\n",
       "      <td>0.0000</td>\n",
       "    </tr>\n",
       "    <tr>\n",
       "      <th>100</th>\n",
       "      <td>rano</td>\n",
       "      <td>Tuesday</td>\n",
       "      <td>Gdańsk</td>\n",
       "      <td>Warszawa</td>\n",
       "      <td>Pendolino</td>\n",
       "      <td>wiosna</td>\n",
       "      <td>26</td>\n",
       "      <td>1</td>\n",
       "      <td>247.1261</td>\n",
       "    </tr>\n",
       "    <tr>\n",
       "      <th>101</th>\n",
       "      <td>popołudnie</td>\n",
       "      <td>Thursday</td>\n",
       "      <td>Warszawa</td>\n",
       "      <td>Gdańsk</td>\n",
       "      <td>\"Zwykły\" InterCity</td>\n",
       "      <td>wiosna</td>\n",
       "      <td>0</td>\n",
       "      <td>0</td>\n",
       "      <td>0.0000</td>\n",
       "    </tr>\n",
       "    <tr>\n",
       "      <th>102</th>\n",
       "      <td>rano</td>\n",
       "      <td>Weekend</td>\n",
       "      <td>Gdańsk</td>\n",
       "      <td>Warszawa</td>\n",
       "      <td>Pendolino</td>\n",
       "      <td>wiosna</td>\n",
       "      <td>0</td>\n",
       "      <td>0</td>\n",
       "      <td>0.0000</td>\n",
       "    </tr>\n",
       "  </tbody>\n",
       "</table>\n",
       "<p>103 rows × 9 columns</p>\n",
       "</div>"
      ],
      "text/plain": [
       "    pora_dnia_przejazdu dzien_tygodnia_cat stacja_start_cat stacja_finisz_cat  \\\n",
       "0            popołudnie           Thursday         Warszawa            Gdańsk   \n",
       "1            popołudnie            Tuesday           Gdańsk         Legionowo   \n",
       "2                  rano          Wednesday        Legionowo          Warszawa   \n",
       "3            popołudnie          Wednesday         Warszawa         Legionowo   \n",
       "4            popołudnie           Thursday         Warszawa         Legionowo   \n",
       "..                  ...                ...              ...               ...   \n",
       "98                 rano            Weekend           Gdańsk          Warszawa   \n",
       "99           popołudnie            Tuesday         Warszawa            Gdańsk   \n",
       "100                rano            Tuesday           Gdańsk          Warszawa   \n",
       "101          popołudnie           Thursday         Warszawa            Gdańsk   \n",
       "102                rano            Weekend           Gdańsk          Warszawa   \n",
       "\n",
       "          rodzaj_pociagu_cat pora_roku_cat  opoznienie_start  czy_szkoda  \\\n",
       "0         \"Zwykły\" InterCity          zima                 0           1   \n",
       "1         \"Zwykły\" InterCity          zima                 0           0   \n",
       "2    Podmiejski / Regionalne          zima                 0           0   \n",
       "3    Podmiejski / Regionalne          zima                 0           0   \n",
       "4    Podmiejski / Regionalne          zima                 3           0   \n",
       "..                       ...           ...               ...         ...   \n",
       "98                 Pendolino        wiosna                 0           0   \n",
       "99                 Pendolino        wiosna                 0           0   \n",
       "100                Pendolino        wiosna                26           1   \n",
       "101       \"Zwykły\" InterCity        wiosna                 0           0   \n",
       "102                Pendolino        wiosna                 0           0   \n",
       "\n",
       "     wyplata_szkoda  \n",
       "0           99.7513  \n",
       "1            0.0000  \n",
       "2            0.0000  \n",
       "3            0.0000  \n",
       "4            0.0000  \n",
       "..              ...  \n",
       "98           0.0000  \n",
       "99           0.0000  \n",
       "100        247.1261  \n",
       "101          0.0000  \n",
       "102          0.0000  \n",
       "\n",
       "[103 rows x 9 columns]"
      ]
     },
     "execution_count": 2,
     "metadata": {},
     "output_type": "execute_result"
    }
   ],
   "source": [
    "# Zadanie 1\n",
    "\n",
    "filepath = r\"C:\\Users\\pnaumczyk\\Documents\\Dane\\Python_modelowanie_crashCourse\\train.csv\"\n",
    "cats_dow = [\"Monday\", \"Tuesday\", \"Wednesday\", \"Thursday\", \"Friday\", \"Weekend\"]\n",
    "dow_dtype = pd.api.types.CategoricalDtype(categories=cats_dow, ordered=True)\n",
    "\n",
    "miesiac_zima = [\"January\", \"February\", \"December\"]\n",
    "miesiac_wiosna = [\"March\", \"April\", \"May\"]\n",
    "miesiac_lato = [\"June\", \"July\", \"August\"]\n",
    "miesiac_jesien = [\"September\", \"October\", \"November\"]\n",
    "\n",
    "cats_season = [\"wiosna\", \"lato\", \"jesien\", \"zima\"]\n",
    "season_dtype =  pd.api.types.CategoricalDtype(categories=cats_season, ordered=True)\n",
    "\n",
    "cat_cols = [\n",
    "    'pora_dnia_przejazdu',\n",
    "    'dzien_tygodnia_cat', \n",
    "    'stacja_start_cat',  \n",
    "    'stacja_finisz_cat', \n",
    "    'rodzaj_pociagu_cat', \n",
    "    'pora_roku_cat'\n",
    "]\n",
    "num_cols = [\n",
    "    'opoznienie_start',\n",
    "    'czy_szkoda',\n",
    "    'wyplata_szkoda'\n",
    "]\n",
    "\n",
    "\n",
    "df = (\n",
    "    pd.read_csv(filepath, sep=';')\n",
    "    \n",
    "    .assign(\n",
    "        **{\n",
    "             k: lambda df_, col = k: pd.to_datetime(df_[col])\n",
    "                for k in [\n",
    "                    'Kiedy jechał*ś?'\n",
    "                ]\n",
    "        },\n",
    "        **{ k: lambda df_, col = k: pd.to_numeric(df_[col], downcast='float')\n",
    "                for k in [\n",
    "                    'Koszt podróży:'\n",
    "                ]\n",
    "        },\n",
    "        **{ k: lambda df_, col = k: pd.to_numeric(df_[col], downcast='integer')\n",
    "                for k in [\n",
    "                    'Liczba minut opóźnienia na starcie:', 'Liczba minut opóźnienia na mecie:'\n",
    "                ]\n",
    "        }\n",
    "    )\n",
    "    \n",
    "    .astype({\n",
    "        **{ k: 'string' \n",
    "               for k in [\n",
    "                   'Stacja początkowa:', 'Stacja końcowa:', 'Jak wrażenia z podróży? :D (nieobowiązkowe)', 'Uwagi (nieobowiązkowe):'\n",
    "               ]            \n",
    "        },\n",
    "        **{ k: 'category' \n",
    "               for k in [\n",
    "                   'Rodzaj pociągu:', 'Pora dnia:'\n",
    "               ]            \n",
    "        }\n",
    "    })\n",
    "    \n",
    "    .rename(columns={\n",
    "        'Kiedy jechał*ś?'         : 'data_przejazdu',\n",
    "        'Stacja początkowa:'      : 'stacja_start',\n",
    "        'Stacja końcowa:'         : 'stacja_finisz',\n",
    "        'Rodzaj pociągu:'         : 'rodzaj_pociagu',\n",
    "        'Uwagi (nieobowiązkowe):' : 'uwagi',\n",
    "        'Koszt podróży:'          : 'cena_biletu',\n",
    "        'Pora dnia:'              : 'pora_dnia_przejazdu',\n",
    "        'Liczba minut opóźnienia na starcie:' : 'opoznienie_start',\n",
    "        'Liczba minut opóźnienia na mecie:'   : 'opoznienie_finisz',\n",
    "        'Jak wrażenia z podróży? :D (nieobowiązkowe)' : 'wrazenia'\n",
    "    })\n",
    "    \n",
    "    .drop(columns=['wrazenia', 'uwagi'])\n",
    "    .drop(index=[30, 50])\n",
    "    \n",
    "    .assign(\n",
    "        pora_dnia_przejazdu = lambda df_: np.select(\n",
    "        [\n",
    "            (df_.pora_dnia_przejazdu.isnull() & df_.stacja_start.str.contains('Legionowo')).astype(bool),\n",
    "            (df_.pora_dnia_przejazdu.isnull() & df_.stacja_finisz.str.contains('Legionowo')).astype(bool),\n",
    "            (df_.pora_dnia_przejazdu.isnull() & df_.stacja_finisz.str.contains('Gdask')).astype(bool)\n",
    "        ],\n",
    "        [\n",
    "            'rano',\n",
    "            'popołudnie',\n",
    "            'popołudnie'            \n",
    "        ],\n",
    "        df_.pora_dnia_przejazdu\n",
    "    ))\n",
    "    \n",
    "    .reset_index(drop=True)\n",
    "    \n",
    "    .assign(\n",
    "        czy_szkoda = lambda df_: np.select(\n",
    "            [\n",
    "                df_.opoznienie_finisz.gt(10) & df_.opoznienie_finisz.le(40),\n",
    "                df_.opoznienie_finisz.gt(40)\n",
    "            ],\n",
    "            [\n",
    "                1,\n",
    "                2\n",
    "            ],\n",
    "            0\n",
    "        ),\n",
    "        \n",
    "        wyplata_szkoda = lambda df_: np.where(\n",
    "            df_.opoznienie_finisz.gt(10),\n",
    "            df_.cena_biletu * np.exp(df_.opoznienie_finisz.div(100)) * df_.czy_szkoda,\n",
    "            0.0\n",
    "        )\n",
    "\n",
    "    )\n",
    "    \n",
    "    .sort_values(by='data_przejazdu')\n",
    "    .reset_index(drop=True)\n",
    "    \n",
    "    .assign(\n",
    "        dzien_tygodnia = lambda df_: df_.data_przejazdu.dt.day_name().astype('category'),\n",
    "        dzien_tygodnia_cat = lambda df_: np.where(\n",
    "            df_.dzien_tygodnia.eq('Sunday') | df_.dzien_tygodnia.eq('Saturday') | df_.dzien_tygodnia.eq('Monday'),\n",
    "            'Weekend',\n",
    "            df_.dzien_tygodnia\n",
    "        ),\n",
    "        miesiac = lambda df_: df_.data_przejazdu.dt.month_name().astype('category'),\n",
    "        pora_roku = lambda df_: np.select(\n",
    "            [\n",
    "                df_.miesiac.isin(miesiac_zima),\n",
    "                df_.miesiac.isin(miesiac_wiosna),\n",
    "                df_.miesiac.isin(miesiac_lato),\n",
    "                df_.miesiac.isin(miesiac_jesien)\n",
    "            ],\n",
    "            [\n",
    "                \"zima\",\n",
    "                \"wiosna\",\n",
    "                \"lato\",\n",
    "                \"jesien\"\n",
    "            ],\n",
    "            \"brak_danych\"\n",
    "        ),        \n",
    "        stacja_start_cat = lambda df_: np.select(\n",
    "            [\n",
    "                df_.stacja_start.str.contains(\"Warszawa\").astype(bool),\n",
    "                df_.stacja_start.str.contains(\"Legionowo\").astype(bool),\n",
    "                (df_.stacja_start.str.contains(\"Gdańsk\") | df_.stacja_start.str.contains(\"Gdask\")).astype(bool)\n",
    "            ],\n",
    "            [\n",
    "                \"Warszawa\",\n",
    "                \"Legionowo\",\n",
    "                \"Gdańsk\"\n",
    "                \n",
    "            ],\n",
    "            \"Inne\"\n",
    "        ),\n",
    "        stacja_finisz_cat = lambda df_: np.select(\n",
    "            [\n",
    "                df_.stacja_finisz.str.contains(\"Warszawa\").astype(bool),\n",
    "                df_.stacja_finisz.str.contains(\"Legionowo\").astype(bool),\n",
    "                (df_.stacja_finisz.str.contains(\"Gdańsk\") | df_.stacja_finisz.str.contains(\"Gdask\")).astype(bool)\n",
    "            ],\n",
    "            [\n",
    "                \"Warszawa\",\n",
    "                \"Legionowo\",\n",
    "                \"Gdańsk\"\n",
    "                \n",
    "            ],\n",
    "            \"Inne\"\n",
    "        ),  \n",
    "        rodzaj_pociagu_cat = lambda df_: np.where(df_.rodzaj_pociagu.eq(\"EIC\"), '\"Zwykły\" InterCity', df_.rodzaj_pociagu)\n",
    "    )\n",
    "    \n",
    "    .astype({\n",
    "        **{ k: 'category' \n",
    "               for k in [\n",
    "                   'stacja_start_cat', 'stacja_finisz_cat', 'rodzaj_pociagu_cat'\n",
    "               ]            \n",
    "        },      \n",
    "    })\n",
    "    \n",
    "    .assign(\n",
    "        dzien_tygodnia_cat = lambda df_: df_.dzien_tygodnia_cat.astype(dow_dtype),\n",
    "        pora_roku_cat = lambda df_: df_.pora_roku.astype(season_dtype)\n",
    "    )\n",
    "    \n",
    "    .drop(columns=[\n",
    "        'data_przejazdu', 'stacja_start', 'stacja_finisz', 'rodzaj_pociagu', 'cena_biletu', 'dzien_tygodnia', 'miesiac', 'pora_roku', 'opoznienie_finisz'\n",
    "    ])\n",
    "\n",
    "    .reindex(columns = cat_cols + num_cols)\n",
    "\n",
    ")\n",
    "df"
   ]
  },
  {
   "cell_type": "markdown",
   "metadata": {},
   "source": [
    "# Spis treści\n",
    "1. [Podział na set testowy i treningowy](#train_test)\n",
    "2. [Przekształcenia zmiennych kategorialnych](#encode)\n",
    "3. [Modelowanie - scikit-learn](#scikit)\n",
    "4. [Modelowanie - statsmodels](#stats)\n",
    "\n",
    "***\n",
    "***"
   ]
  },
  {
   "cell_type": "markdown",
   "metadata": {},
   "source": [
    "# <a id='train_test'>Podział na set testowy i treningowy</a> "
   ]
  },
  {
   "cell_type": "markdown",
   "metadata": {},
   "source": [
    "1. Dokonaj podziału na set testowy i treningowy (test = 30% zbioru). Co jest wynikiem tej funkcji? Jaki typ danych i jakiego rozmiaru?"
   ]
  },
  {
   "cell_type": "code",
   "execution_count": null,
   "metadata": {},
   "outputs": [],
   "source": []
  },
  {
   "cell_type": "markdown",
   "metadata": {},
   "source": [
    "2. Ponownie dokonaj podziału, tym razem przypisując je do zmiennych df_train i df_test. Sprawdź, czy zgadzają się wielkości zbiorów?"
   ]
  },
  {
   "cell_type": "code",
   "execution_count": null,
   "metadata": {},
   "outputs": [],
   "source": []
  },
  {
   "cell_type": "markdown",
   "metadata": {},
   "source": [
    "3. Sprawdź jakie są rozkłady zmiennych wyjaśnianych w podzielonych zbiorach - czy wyszły równe?"
   ]
  },
  {
   "cell_type": "code",
   "execution_count": null,
   "metadata": {},
   "outputs": [],
   "source": []
  },
  {
   "cell_type": "markdown",
   "metadata": {},
   "source": [
    "4. Dokonaj podziału proporcjonalnie do zmiennej czy_szkoda. Sprawdź ponownie rozkłady"
   ]
  },
  {
   "cell_type": "code",
   "execution_count": null,
   "metadata": {},
   "outputs": [],
   "source": []
  },
  {
   "cell_type": "markdown",
   "metadata": {},
   "source": [
    "# <a id='encode'>Przekształcenia zmiennych kategorialnych</a> "
   ]
  },
  {
   "cell_type": "markdown",
   "metadata": {},
   "source": [
    "1. Stwórz obiekt ohe_enc będący obiektem kodowania one-hot_encoding z wybranymi parametrami (np. usunięcie pierwszej kategorii). "
   ]
  },
  {
   "cell_type": "code",
   "execution_count": null,
   "metadata": {},
   "outputs": [],
   "source": []
  },
  {
   "cell_type": "markdown",
   "metadata": {},
   "source": [
    "2. Dopasuj go do zmiennych kategorialnych df_train"
   ]
  },
  {
   "cell_type": "code",
   "execution_count": null,
   "metadata": {},
   "outputs": [],
   "source": []
  },
  {
   "cell_type": "markdown",
   "metadata": {},
   "source": [
    "3. Wyświetl kategorie powstały po dopasowaniu"
   ]
  },
  {
   "cell_type": "code",
   "execution_count": null,
   "metadata": {},
   "outputs": [],
   "source": []
  },
  {
   "cell_type": "markdown",
   "metadata": {},
   "source": [
    "4. Wyświetl nazwy kolumn na podstawie których stworzono te kategorie"
   ]
  },
  {
   "cell_type": "code",
   "execution_count": null,
   "metadata": {},
   "outputs": [],
   "source": []
  },
  {
   "cell_type": "markdown",
   "metadata": {},
   "source": [
    "5. Wyświetl parametry dopasowania"
   ]
  },
  {
   "cell_type": "code",
   "execution_count": null,
   "metadata": {},
   "outputs": [],
   "source": []
  },
  {
   "cell_type": "markdown",
   "metadata": {},
   "source": [
    "6. Wyświetl, które kategorie reprezentują kolejne kolumny"
   ]
  },
  {
   "cell_type": "code",
   "execution_count": null,
   "metadata": {},
   "outputs": [],
   "source": []
  },
  {
   "cell_type": "markdown",
   "metadata": {},
   "source": [
    "7. Przekształć koder na zmiennych kategorialnych df_train i df_test tworząc X_train_ohe i X_test_ohe"
   ]
  },
  {
   "cell_type": "code",
   "execution_count": null,
   "metadata": {},
   "outputs": [],
   "source": []
  },
  {
   "cell_type": "markdown",
   "metadata": {},
   "source": [
    "8. Wyświetl df_train_ohe i df_test_ohe. Jaki to typ danych? Co należałoby zrobić, aby przekształcić je ponownie w dataframe?"
   ]
  },
  {
   "cell_type": "code",
   "execution_count": null,
   "metadata": {},
   "outputs": [],
   "source": []
  },
  {
   "cell_type": "markdown",
   "metadata": {},
   "source": [
    "9. Wyświetl nazwy poszczególnych kolumn X_train_ohe"
   ]
  },
  {
   "cell_type": "code",
   "execution_count": null,
   "metadata": {},
   "outputs": [],
   "source": []
  },
  {
   "cell_type": "markdown",
   "metadata": {},
   "source": [
    "10. Stwórz dataframe z kodowaniem OHE osobno dla próbki testowej i treningowej z poprawnymi nazwami kolumn"
   ]
  },
  {
   "cell_type": "code",
   "execution_count": null,
   "metadata": {},
   "outputs": [],
   "source": []
  },
  {
   "cell_type": "markdown",
   "metadata": {},
   "source": [
    "10. Powtórz kroki 1-10 dla kodowania porządkowego (ordinal encoding)"
   ]
  },
  {
   "cell_type": "code",
   "execution_count": null,
   "metadata": {},
   "outputs": [],
   "source": []
  },
  {
   "cell_type": "markdown",
   "metadata": {},
   "source": [
    "11. Analogicznie przeprowadź wybrane skalowanie zmiennych ciągłych (min-max lub standard). <br> UWAGA! Tylko dla zmiennych wyjaśniających!!!"
   ]
  },
  {
   "cell_type": "code",
   "execution_count": null,
   "metadata": {},
   "outputs": [],
   "source": []
  },
  {
   "cell_type": "markdown",
   "metadata": {},
   "source": [
    "12. Scal dataframe wybranej metody kodowania zmiennych kategorialnych i skalowania zniennych ciągłych (osobno dla próbki testowej i treningowej)"
   ]
  },
  {
   "cell_type": "code",
   "execution_count": null,
   "metadata": {},
   "outputs": [],
   "source": []
  },
  {
   "cell_type": "markdown",
   "metadata": {},
   "source": [
    "# <a id='scikit'>Modelowanie - scikit-learn</a> "
   ]
  },
  {
   "cell_type": "markdown",
   "metadata": {},
   "source": [
    "1. Dopasuj regresję Poissona do zmiennej wyjaśnianej 'czy_szkoda\" na ustawieniach domyślnych"
   ]
  },
  {
   "cell_type": "code",
   "execution_count": null,
   "metadata": {},
   "outputs": [],
   "source": []
  },
  {
   "cell_type": "markdown",
   "metadata": {},
   "source": [
    "2. Wywietl współczyniki regresji dopasowania"
   ]
  },
  {
   "cell_type": "code",
   "execution_count": null,
   "metadata": {},
   "outputs": [],
   "source": []
  },
  {
   "cell_type": "markdown",
   "metadata": {},
   "source": [
    "3. Wyświetl nazwy poszczególnych zmiennych"
   ]
  },
  {
   "cell_type": "code",
   "execution_count": null,
   "metadata": {},
   "outputs": [],
   "source": []
  },
  {
   "cell_type": "markdown",
   "metadata": {},
   "source": [
    "4. Wyświetl stałą modelu"
   ]
  },
  {
   "cell_type": "code",
   "execution_count": null,
   "metadata": {},
   "outputs": [],
   "source": []
  },
  {
   "cell_type": "markdown",
   "metadata": {},
   "source": [
    "5. Stwórz tabelę zestawiającą punkt 2 z nazwami z punktu 3 oraz ze stałą modelu"
   ]
  },
  {
   "cell_type": "code",
   "execution_count": null,
   "metadata": {},
   "outputs": [],
   "source": []
  },
  {
   "cell_type": "markdown",
   "metadata": {},
   "source": [
    "6. Sprawdź dokładność dopasowania przy użyciu metryki standardowej oraz przy użyciu mean_poisson_deviance. Porównaj z modelem średniej (dummy)"
   ]
  },
  {
   "cell_type": "code",
   "execution_count": null,
   "metadata": {},
   "outputs": [],
   "source": []
  },
  {
   "cell_type": "markdown",
   "metadata": {},
   "source": [
    "7. Powtórz kroki 1-6 dla modelu średniej szkody oraz GammaRegressor (pamiętaj o wymaskowaniu wierszy, dla których nie było szkody)"
   ]
  },
  {
   "cell_type": "code",
   "execution_count": null,
   "metadata": {},
   "outputs": [],
   "source": []
  },
  {
   "cell_type": "code",
   "execution_count": null,
   "metadata": {},
   "outputs": [],
   "source": []
  },
  {
   "cell_type": "code",
   "execution_count": null,
   "metadata": {},
   "outputs": [],
   "source": []
  },
  {
   "cell_type": "markdown",
   "metadata": {},
   "source": [
    "# <a id='stats'>Modelowanie - statsmodels</a> "
   ]
  },
  {
   "cell_type": "markdown",
   "metadata": {},
   "source": [
    "1. Stwórz tekstową reprezentację równania regresji Poissona, które ma zostać rozwiązane"
   ]
  },
  {
   "cell_type": "code",
   "execution_count": null,
   "metadata": {},
   "outputs": [],
   "source": []
  },
  {
   "cell_type": "markdown",
   "metadata": {},
   "source": [
    "2. Stwórz reprezentacje dmatrix zmiennej wyjaśnianej czy_szkoda i zmiennych wyjaśniających dla próbki testowej i treningowej"
   ]
  },
  {
   "cell_type": "code",
   "execution_count": null,
   "metadata": {},
   "outputs": [],
   "source": []
  },
  {
   "cell_type": "markdown",
   "metadata": {},
   "source": [
    "3. Dokonaj przekształcenia zmiennych ciągłych zgodnie z wybranym skalowaniem na próbkach testowych i treningowych. Dołącz kolumnę 'EXPO' z samymi jedynakmi do każdego ze zbiorów"
   ]
  },
  {
   "cell_type": "code",
   "execution_count": null,
   "metadata": {},
   "outputs": [],
   "source": []
  },
  {
   "cell_type": "markdown",
   "metadata": {},
   "source": [
    "4. Rozwiąż równanie regresji Poissona w statsmodel (bez regularyzacji) i wyświetl wyniki"
   ]
  },
  {
   "cell_type": "code",
   "execution_count": null,
   "metadata": {},
   "outputs": [],
   "source": []
  },
  {
   "cell_type": "markdown",
   "metadata": {},
   "source": [
    "5. Sprawdź dopasowanie modelu na próbce testowej: dokonaj predykcji na podstawie modelu regresji. Policz wybrane miary dopasowania i porównaj z modelem scikit-lean"
   ]
  },
  {
   "cell_type": "code",
   "execution_count": null,
   "metadata": {},
   "outputs": [],
   "source": []
  },
  {
   "cell_type": "markdown",
   "metadata": {},
   "source": [
    "6. Powtórz kroki 4 i 5 dla wersji z regularyzacją i parametrami alpha=0.05 L1_wt=1.0"
   ]
  },
  {
   "cell_type": "code",
   "execution_count": null,
   "metadata": {},
   "outputs": [],
   "source": []
  },
  {
   "cell_type": "markdown",
   "metadata": {},
   "source": [
    "7. Powtórz kroki 1-6 dla modelu średniej szkody oraz GammaRegressor (pamiętaj o wymaskowaniu wierszy, dla których nie było szkody)"
   ]
  },
  {
   "cell_type": "code",
   "execution_count": null,
   "metadata": {},
   "outputs": [],
   "source": []
  },
  {
   "cell_type": "code",
   "execution_count": null,
   "metadata": {},
   "outputs": [],
   "source": []
  }
 ],
 "metadata": {
  "kernelspec": {
   "display_name": "Python 3",
   "language": "python",
   "name": "python3"
  },
  "language_info": {
   "codemirror_mode": {
    "name": "ipython",
    "version": 3
   },
   "file_extension": ".py",
   "mimetype": "text/x-python",
   "name": "python",
   "nbconvert_exporter": "python",
   "pygments_lexer": "ipython3",
   "version": "3.7.4"
  }
 },
 "nbformat": 4,
 "nbformat_minor": 2
}

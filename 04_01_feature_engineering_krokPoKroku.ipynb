{
 "cells": [
  {
   "cell_type": "markdown",
   "metadata": {},
   "source": [
    "# Setup"
   ]
  },
  {
   "cell_type": "code",
   "execution_count": null,
   "metadata": {},
   "outputs": [],
   "source": [
    "import pandas as pd\n",
    "import numpy as np\n",
    "# wizualizacje\n",
    "import seaborn as sns\n",
    "import matplotlib.pyplot as plt\n",
    "from scipy.optimize import curve_fit\n",
    "import itertools\n",
    "\n",
    "from sklearn.metrics import mutual_info_score, adjusted_mutual_info_score, normalized_mutual_info_score\n",
    "from sklearn.feature_selection import mutual_info_classif, mutual_info_regression \n",
    "from sklearn.preprocessing import OrdinalEncoder\n",
    "from sklearn.compose import ColumnTransformer\n",
    "\n",
    "# ustawienie szerokiego ekranu wyświetlacza JNotebook\n",
    "from IPython.display import display, HTML\n",
    "display(HTML(\"<style>.container { width:100% !important; }</style>\"))\n",
    "\n",
    "# opcje wyświetlania w Pandas\n",
    "# - maks. 55 kolumn\n",
    "# - maks. 101 wierszy\n",
    "# - liczby w notacji dziesiętnej z czterema zerami po przecinku\n",
    "pd.set_option('display.max_columns', 55)\n",
    "pd.set_option('display.max_rows', 101)\n",
    "pd.set_option('display.float_format', lambda x: f\"{x:.4f}\")\n",
    "\n",
    "# opcje formatowania wykresów matplotlib\n",
    "# - etykiety osi: bold\n",
    "# - tekst: bold\n",
    "# - domyślny rozmiar fontu=14\n",
    "plt.rcParams['axes.labelweight'] = 'bold'\n",
    "plt.rcParams['font.weight'] = 'bold'\n",
    "plt.rcParams['font.size'] = '14'"
   ]
  },
  {
   "cell_type": "markdown",
   "metadata": {},
   "source": [
    "# Wczytanie danych"
   ]
  },
  {
   "cell_type": "code",
   "execution_count": null,
   "metadata": {},
   "outputs": [],
   "source": [
    "filepath = r\"\"\n",
    "df = (\n",
    "    pd.read_csv(filepath, sep=';')\n",
    "    \n",
    "    .assign(\n",
    "        **{\n",
    "             k: lambda df_, col = k: pd.to_datetime(df_[col])\n",
    "                for k in [\n",
    "                    'Kiedy jechał*ś?'\n",
    "                ]\n",
    "        },\n",
    "        **{ k: lambda df_, col = k: pd.to_numeric(df_[col], downcast='float')\n",
    "                for k in [\n",
    "                    'Koszt podróży:'\n",
    "                ]\n",
    "        },\n",
    "        **{ k: lambda df_, col = k: pd.to_numeric(df_[col], downcast='integer')\n",
    "                for k in [\n",
    "                    'Liczba minut opóźnienia na starcie:', 'Liczba minut opóźnienia na mecie:'\n",
    "                ]\n",
    "        }\n",
    "    )\n",
    "    \n",
    "    .astype({\n",
    "        **{ k: 'string' \n",
    "               for k in [\n",
    "                   'Stacja początkowa:', 'Stacja końcowa:', 'Jak wrażenia z podróży? :D (nieobowiązkowe)', 'Uwagi (nieobowiązkowe):'\n",
    "               ]            \n",
    "        },\n",
    "        **{ k: 'category' \n",
    "               for k in [\n",
    "                   'Rodzaj pociągu:', 'Pora dnia:'\n",
    "               ]            \n",
    "        }\n",
    "    })\n",
    "    \n",
    "    .rename(columns={\n",
    "        'Kiedy jechał*ś?'         : 'data_przejazdu',\n",
    "        'Stacja początkowa:'      : 'stacja_start',\n",
    "        'Stacja końcowa:'         : 'stacja_finisz',\n",
    "        'Rodzaj pociągu:'         : 'rodzaj_pociagu',\n",
    "        'Uwagi (nieobowiązkowe):' : 'uwagi',\n",
    "        'Koszt podróży:'          : 'cena_biletu',\n",
    "        'Pora dnia:'              : 'pora_dnia_przejazdu',\n",
    "        'Liczba minut opóźnienia na starcie:' : 'opoznienie_start',\n",
    "        'Liczba minut opóźnienia na mecie:'   : 'opoznienie_finisz',\n",
    "        'Jak wrażenia z podróży? :D (nieobowiązkowe)' : 'wrazenia'\n",
    "    })\n",
    "    \n",
    "    .drop(columns=['wrazenia', 'uwagi'])\n",
    "    .drop(index=[30, 50])\n",
    "    \n",
    "    .assign(\n",
    "        pora_dnia_przejazdu = lambda df_: np.select(\n",
    "        [\n",
    "            (df_.pora_dnia_przejazdu.isnull() & df_.stacja_start.str.contains('Legionowo')).astype(bool),\n",
    "            (df_.pora_dnia_przejazdu.isnull() & df_.stacja_finisz.str.contains('Legionowo')).astype(bool),\n",
    "            (df_.pora_dnia_przejazdu.isnull() & df_.stacja_finisz.str.contains('Gdask')).astype(bool)\n",
    "        ],\n",
    "        [\n",
    "            'rano',\n",
    "            'popołudnie',\n",
    "            'popołudnie'            \n",
    "        ],\n",
    "        df_.pora_dnia_przejazdu\n",
    "    ))\n",
    "    \n",
    "    .reset_index(drop=True)\n",
    "    \n",
    "    .assign(\n",
    "        czy_szkoda = lambda df_: np.select(\n",
    "            [\n",
    "                df_.opoznienie_finisz.gt(10) & df_.opoznienie_finisz.le(40),\n",
    "                df_.opoznienie_finisz.gt(40)\n",
    "            ],\n",
    "            [\n",
    "                1,\n",
    "                2\n",
    "            ],\n",
    "            0\n",
    "        ),\n",
    "        \n",
    "        wyplata_szkoda = lambda df_: np.where(\n",
    "            df_.opoznienie_finisz.gt(10),\n",
    "            df_.cena_biletu * np.exp(df_.opoznienie_finisz.div(100)) * df_.czy_szkoda,\n",
    "            0.0\n",
    "        )\n",
    "    )\n",
    "    \n",
    "    .sort_values(by='data_przejazdu')\n",
    "    .reset_index(drop=True)\n",
    ")\n",
    "df"
   ]
  },
  {
   "cell_type": "code",
   "execution_count": null,
   "metadata": {},
   "outputs": [],
   "source": []
  },
  {
   "cell_type": "code",
   "execution_count": null,
   "metadata": {},
   "outputs": [],
   "source": []
  },
  {
   "cell_type": "markdown",
   "metadata": {},
   "source": [
    "1. Stwórz kolumnę przechowującą informację o dniu tygodnia. Stwórz łączną kategorię weekendu (sobota+niedziela+poniedziałek). Stwórz dla wynikowej kolumny własny typ kategorialny, w którym jest zachowana kolejność dni tygodnia."
   ]
  },
  {
   "cell_type": "code",
   "execution_count": null,
   "metadata": {},
   "outputs": [],
   "source": []
  },
  {
   "cell_type": "markdown",
   "metadata": {},
   "source": [
    "2. Stwórz kolumnę przechowującą informacje o miesiącu, w którym był przejazd. Sprawdź jej liczebności - czy warto zachować tę zmienną?"
   ]
  },
  {
   "cell_type": "code",
   "execution_count": null,
   "metadata": {},
   "outputs": [],
   "source": []
  },
  {
   "cell_type": "markdown",
   "metadata": {},
   "source": [
    "3. Stwórz zmienną pora roku. Dołącz do niej typ kategorialny zachowujący kolejność pór roku"
   ]
  },
  {
   "cell_type": "code",
   "execution_count": null,
   "metadata": {},
   "outputs": [],
   "source": []
  },
  {
   "cell_type": "markdown",
   "metadata": {},
   "source": [
    "4. Zbadaj jakie wartości przyjmuje zmienna stacja_start. Uprość ją według uznania"
   ]
  },
  {
   "cell_type": "code",
   "execution_count": null,
   "metadata": {},
   "outputs": [],
   "source": []
  },
  {
   "cell_type": "markdown",
   "metadata": {},
   "source": [
    "5. Powtórz operację na zmiennej stacja_finisz"
   ]
  },
  {
   "cell_type": "code",
   "execution_count": null,
   "metadata": {},
   "outputs": [],
   "source": []
  },
  {
   "cell_type": "markdown",
   "metadata": {},
   "source": [
    "6. Zbadaj w ten sam sposób zmienną rodzaj_pociagu"
   ]
  },
  {
   "cell_type": "code",
   "execution_count": null,
   "metadata": {},
   "outputs": [],
   "source": []
  },
  {
   "cell_type": "markdown",
   "metadata": {},
   "source": [
    "7. Usuń zbędne kolumny"
   ]
  },
  {
   "cell_type": "code",
   "execution_count": null,
   "metadata": {},
   "outputs": [],
   "source": []
  },
  {
   "cell_type": "markdown",
   "metadata": {},
   "source": [
    "8. Przepisz zmiany wprowadzone w krokach 1-7 na method chaining rozwijające wczytanie pliku"
   ]
  },
  {
   "cell_type": "code",
   "execution_count": null,
   "metadata": {},
   "outputs": [],
   "source": []
  },
  {
   "cell_type": "markdown",
   "metadata": {},
   "source": [
    "9. Wyświetl wykres rozrzutu/histogrm zmiennych ciągłych"
   ]
  },
  {
   "cell_type": "code",
   "execution_count": null,
   "metadata": {},
   "outputs": [],
   "source": []
  },
  {
   "cell_type": "markdown",
   "metadata": {},
   "source": [
    "10. Sprawdź, czy zmienna opóźnienie_start daje sie opisać zależnością wykładniczą?"
   ]
  },
  {
   "cell_type": "code",
   "execution_count": null,
   "metadata": {},
   "outputs": [],
   "source": []
  },
  {
   "cell_type": "markdown",
   "metadata": {},
   "source": [
    "11. Zwizualizuj związek między wyplatami, a opoznieniem na starcie w zależności od rodzaju pociągu"
   ]
  },
  {
   "cell_type": "code",
   "execution_count": null,
   "metadata": {},
   "outputs": [],
   "source": []
  },
  {
   "cell_type": "markdown",
   "metadata": {},
   "source": [
    "12. Zwizualizuj związek między wyplatami, a opoznieniem na starcie w zależności od pory dnia"
   ]
  },
  {
   "cell_type": "code",
   "execution_count": null,
   "metadata": {},
   "outputs": [],
   "source": []
  },
  {
   "cell_type": "markdown",
   "metadata": {},
   "source": [
    "13. Zwizualizuj związek między wyplatami, a opoznieniem na starcie w zależności od stacji końcowej"
   ]
  },
  {
   "cell_type": "code",
   "execution_count": null,
   "metadata": {},
   "outputs": [],
   "source": []
  },
  {
   "cell_type": "markdown",
   "metadata": {},
   "source": [
    "14. Zwizualizuj związek między wyplatami, a opoznieniem na starcie w zależności od dnia tygodnia przejazdu"
   ]
  },
  {
   "cell_type": "code",
   "execution_count": null,
   "metadata": {},
   "outputs": [],
   "source": []
  },
  {
   "cell_type": "markdown",
   "metadata": {},
   "source": [
    "15. Zwizualizuj związek między wyplatami, a opoznieniem na starcie w zależności od pory roku"
   ]
  },
  {
   "cell_type": "code",
   "execution_count": null,
   "metadata": {},
   "outputs": [],
   "source": []
  },
  {
   "cell_type": "markdown",
   "metadata": {},
   "source": [
    "16. Policz informację wzajemną przy użyciu mutual_info_score dla każdej pary zmiennych"
   ]
  },
  {
   "cell_type": "code",
   "execution_count": null,
   "metadata": {},
   "outputs": [],
   "source": []
  },
  {
   "cell_type": "markdown",
   "metadata": {},
   "source": [
    "17. Zwizualizuj ją przy użyciu heat_map"
   ]
  },
  {
   "cell_type": "code",
   "execution_count": null,
   "metadata": {},
   "outputs": [],
   "source": []
  },
  {
   "cell_type": "markdown",
   "metadata": {},
   "source": [
    "18. Powtórz powyższe dla adjusted_mutual_info_score"
   ]
  },
  {
   "cell_type": "code",
   "execution_count": null,
   "metadata": {},
   "outputs": [],
   "source": []
  },
  {
   "cell_type": "markdown",
   "metadata": {},
   "source": [
    "19. Powtór powyższe dla normalized_mutual__infor_score"
   ]
  },
  {
   "cell_type": "code",
   "execution_count": null,
   "metadata": {},
   "outputs": [],
   "source": []
  },
  {
   "cell_type": "code",
   "execution_count": null,
   "metadata": {},
   "outputs": [],
   "source": []
  },
  {
   "cell_type": "markdown",
   "metadata": {},
   "source": [
    "20. Policz mutula_info przy użyciu metody KNN (mutual_info_classif i mutual_info_regression)"
   ]
  },
  {
   "cell_type": "code",
   "execution_count": null,
   "metadata": {},
   "outputs": [],
   "source": []
  },
  {
   "cell_type": "markdown",
   "metadata": {},
   "source": [
    "21. Ustaw własne kodowanie koklejności w OrdinalEncoding. Dołącz informację o tym, które zmienne są kategorialne to klasyfikatorów mutual_info"
   ]
  },
  {
   "cell_type": "code",
   "execution_count": null,
   "metadata": {},
   "outputs": [],
   "source": []
  },
  {
   "cell_type": "markdown",
   "metadata": {},
   "source": [
    "22. Skopiuj kod z poprzedniej komórki i uruchom go ponownie"
   ]
  },
  {
   "cell_type": "code",
   "execution_count": null,
   "metadata": {},
   "outputs": [],
   "source": []
  },
  {
   "cell_type": "markdown",
   "metadata": {},
   "source": [
    "23. Dorzuć do kodu informację o stanie wyjściowym random_state"
   ]
  },
  {
   "cell_type": "code",
   "execution_count": null,
   "metadata": {},
   "outputs": [],
   "source": []
  }
 ],
 "metadata": {
  "kernelspec": {
   "display_name": "Python 3",
   "language": "python",
   "name": "python3"
  },
  "language_info": {
   "codemirror_mode": {
    "name": "ipython",
    "version": 3
   },
   "file_extension": ".py",
   "mimetype": "text/x-python",
   "name": "python",
   "nbconvert_exporter": "python",
   "pygments_lexer": "ipython3",
   "version": "3.7.4"
  }
 },
 "nbformat": 4,
 "nbformat_minor": 2
}

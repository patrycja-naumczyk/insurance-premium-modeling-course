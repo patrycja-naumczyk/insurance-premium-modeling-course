{
 "cells": [
  {
   "cell_type": "markdown",
   "metadata": {},
   "source": [
    "# Setup"
   ]
  },
  {
   "cell_type": "code",
   "execution_count": null,
   "metadata": {},
   "outputs": [],
   "source": [
    "import pandas as pd\n",
    "import numpy as np\n",
    "# wizualizacje\n",
    "import seaborn as sns\n",
    "import matplotlib.pyplot as plt\n",
    "# statystyki\n",
    "import scipy.stats as stats\n",
    "import researchpy as rp\n",
    "import statsmodels.api as sm\n",
    "import statsmodels.formula.api as smf\n",
    "import patsy\n",
    "from patsy import dmatrices\n",
    "\n",
    "# ustawienie szerokiego ekranu wyświetlacza JNotebook\n",
    "from IPython.display import display, HTML\n",
    "display(HTML(\"<style>.container { width:100% !important; }</style>\"))\n",
    "\n",
    "# opcje wyświetlania w Pandas\n",
    "# - maks. 55 kolumn\n",
    "# - maks. 101 wierszy\n",
    "# - liczby w notacji dziesiętnej z czterema zerami po przecinku\n",
    "pd.set_option('display.max_columns', 55)\n",
    "pd.set_option('display.max_rows', 101)\n",
    "pd.set_option('display.float_format', lambda x: f\"{x:.4f}\")\n",
    "\n",
    "# opcje formatowania wykresów matplotlib\n",
    "# - etykiety osi: bold\n",
    "# - tekst: bold\n",
    "# - domyślny rozmiar fontu=14\n",
    "plt.rcParams['axes.labelweight'] = 'bold'\n",
    "plt.rcParams['font.weight'] = 'bold'\n",
    "plt.rcParams['font.size'] = '14'"
   ]
  },
  {
   "cell_type": "markdown",
   "metadata": {},
   "source": [
    "# Wczytanie danych"
   ]
  },
  {
   "cell_type": "code",
   "execution_count": null,
   "metadata": {},
   "outputs": [],
   "source": [
    " "
   ]
  },
  {
   "cell_type": "markdown",
   "metadata": {},
   "source": [
    "# Spis treści\n",
    "1. [Wykresy podstawowe w seaborn](#wykresy)\n",
    "2. [Podstawowe statystyki](#stats)\n",
    "    1. [Różnice międzygrupowe](#group)\n",
    "    2. [Miary związku](#corr)\n",
    "\n",
    "***\n",
    "***"
   ]
  },
  {
   "cell_type": "markdown",
   "metadata": {},
   "source": [
    "# <a id='wykresy'>Wykresy podstawowe w seaborn</a> \n",
    "1. Wyświetl wykresy rozrzutu zmiennych ciągłych w układzie dwa wiersze po trzy kolumny każdy\n",
    "2. Wyświetl histogramy rozkładu zmiennych ciągłych (z pominięciem daty przejazdu) w układzie jeden wiersz / pięć kolumn\n",
    "3. Wyświetl wartości opóżnienń (na starcie i mecie) oraz wielkości wypłaty w zależności od dnia podróży (na jednym wykresie, posortowne datami)\n",
    "4. Wyświetl wykresy pudełkowe pokazujące różnice w wypłaconym odszkodowaniu dla miast startu: Warszawa, Gdańsk, inne (każde miasto osobny wykres) oraz dla każdego typu pociągu (podział wewnątrz wykresu)\n",
    "5. Wyświetl wykres punktowy pokazujący zależność między opóźnieniem na starcie, a opóźnieniem na mecie z poszczególnymi rodzajami pociągu zaznaczonymi odmiennymi kolorami z palety \"viridis\"\n",
    "    1. Fancy - Wykonaj to samo, ale dorzuć na marginesach wykresy rozkładu zmiennych\n",
    "    2. Fancy do kwadratu - wykonaj to samo (już bez podziału na typy pociągów), ale z wpisaną linią regresji związku między zmiennymi\n",
    "    3. Fancy do sześcianu - wykonaj wykresy rozrzutu każdej zmiennej numerycznej z każdą z poszczególnymi rodzajami pociągu zaznaczonymi odmiennymi kolorami"
   ]
  },
  {
   "cell_type": "code",
   "execution_count": null,
   "metadata": {},
   "outputs": [],
   "source": [
    "# Zadanie 1\n"
   ]
  },
  {
   "cell_type": "code",
   "execution_count": null,
   "metadata": {},
   "outputs": [],
   "source": [
    "# Zadanie 2\n"
   ]
  },
  {
   "cell_type": "code",
   "execution_count": null,
   "metadata": {},
   "outputs": [],
   "source": [
    "# Zadanie 3\n"
   ]
  },
  {
   "cell_type": "code",
   "execution_count": null,
   "metadata": {},
   "outputs": [],
   "source": [
    "# Zadanie 4\n"
   ]
  },
  {
   "cell_type": "code",
   "execution_count": null,
   "metadata": {},
   "outputs": [],
   "source": [
    "# Zadanie 5\n"
   ]
  },
  {
   "cell_type": "code",
   "execution_count": null,
   "metadata": {},
   "outputs": [],
   "source": [
    "# Zadanie 5A - fancy\n"
   ]
  },
  {
   "cell_type": "code",
   "execution_count": null,
   "metadata": {},
   "outputs": [],
   "source": [
    "# Zadanie 5B - fancy do kwadratu\n"
   ]
  },
  {
   "cell_type": "code",
   "execution_count": null,
   "metadata": {},
   "outputs": [],
   "source": [
    "# Zadanie 5C - fancy do sześcianu\n"
   ]
  },
  {
   "cell_type": "markdown",
   "metadata": {},
   "source": [
    "# <a id='stats'>Podstawowe statystyki</a>\n",
    "## <a id='group'>Różnice międzygrupowe</a>\n",
    "Zbadaj poniższe odwołując się do adekwatnych statystyk<br>\n",
    "1. Czy pociągi jeżdżące o różnych porach dnia istotnie różnią się opóźnieniem na mecie?\n",
    "2. Czy jest istotna różnica między opóźnieniem na mecie pociągów jeżdżących z Gdańska vs z Warszawy vs z innych lokalizacji?\n",
    "3. Czy jest istotna różnica w liczbie szkód w zależności czy pociąg jechał rano, czy wieczorem?"
   ]
  },
  {
   "cell_type": "code",
   "execution_count": null,
   "metadata": {},
   "outputs": [],
   "source": [
    "# Zadanie 1\n",
    "\n"
   ]
  },
  {
   "cell_type": "code",
   "execution_count": null,
   "metadata": {
    "scrolled": false
   },
   "outputs": [],
   "source": [
    "# Zadanie 2\n"
   ]
  },
  {
   "cell_type": "code",
   "execution_count": null,
   "metadata": {},
   "outputs": [],
   "source": [
    "# Zadanie 3\n"
   ]
  },
  {
   "cell_type": "markdown",
   "metadata": {},
   "source": [
    "## <a id='corr'>Miary związku</a>\n",
    "Zbadaj poniższe odwołując się do adekwatnych statystyk<br>\n",
    "1. Jaki jest związek między zmiennymi wyjaśnianymi a wyjaśniającymi?\n",
    "2. Jaki jest związek zmiennych wyjaśniających między sobą nawzajem?"
   ]
  },
  {
   "cell_type": "code",
   "execution_count": null,
   "metadata": {},
   "outputs": [],
   "source": [
    "# Zadanie 1\n"
   ]
  },
  {
   "cell_type": "code",
   "execution_count": null,
   "metadata": {},
   "outputs": [],
   "source": [
    "# Zadanie 2\n"
   ]
  }
 ],
 "metadata": {
  "kernelspec": {
   "display_name": "Python 3",
   "language": "python",
   "name": "python3"
  },
  "language_info": {
   "codemirror_mode": {
    "name": "ipython",
    "version": 3
   },
   "file_extension": ".py",
   "mimetype": "text/x-python",
   "name": "python",
   "nbconvert_exporter": "python",
   "pygments_lexer": "ipython3",
   "version": "3.7.4"
  }
 },
 "nbformat": 4,
 "nbformat_minor": 2
}

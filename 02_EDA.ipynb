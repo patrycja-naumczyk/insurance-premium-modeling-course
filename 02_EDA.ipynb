{
 "cells": [
  {
   "cell_type": "markdown",
   "metadata": {},
   "source": [
    "# Setup"
   ]
  },
  {
   "cell_type": "code",
   "execution_count": null,
   "metadata": {},
   "outputs": [],
   "source": [
    "import pandas as pd\n",
    "import numpy as np\n",
    "# wizualizacje\n",
    "import seaborn as sns\n",
    "import matplotlib.pyplot as plt\n",
    "# braki w wartościach\n",
    "import missingno as msno\n",
    "\n",
    "# ustawienie szerokiego ekranu wyświetlacza JNotebook\n",
    "from IPython.display import display, HTML\n",
    "display(HTML(\"<style>.container { width:100% !important; }</style>\"))\n",
    "\n",
    "# opcje wyświetlania w Pandas\n",
    "# - maks. 55 kolumn\n",
    "# - maks. 101 wierszy\n",
    "# - liczby w notacji dziesiętnej z czterema zerami po przecinku\n",
    "pd.set_option('display.max_columns', 55)\n",
    "pd.set_option('display.max_rows', 101)\n",
    "pd.set_option('display.float_format', lambda x: f\"{x:.4f}\")\n",
    "\n",
    "# opcje formatowania wykresów matplotlib\n",
    "# - etykiety osi: bold\n",
    "# - tekst: bold\n",
    "# - domyślny rozmiar fontu=14\n",
    "plt.rcParams['axes.labelweight'] = 'bold'\n",
    "plt.rcParams['font.weight'] = 'bold'\n",
    "plt.rcParams['font.size'] = '14'"
   ]
  },
  {
   "cell_type": "markdown",
   "metadata": {},
   "source": [
    "# Wczytanie danych"
   ]
  },
  {
   "cell_type": "code",
   "execution_count": null,
   "metadata": {},
   "outputs": [],
   "source": [
    "filepath = r\"\"\n",
    "df = pd.read_csv(filepath, sep=';')\n",
    "df"
   ]
  },
  {
   "cell_type": "markdown",
   "metadata": {},
   "source": [
    "# Spis treści\n",
    "1. [Typy danych, zamiana nazw kolumn](#dtypes)\n",
    "2. [Braki danych](#braki)\n",
    "3. [Duplikaty](#duplikaty)\n",
    "4. [Wstępne czyszczenie](#czyszczenie)\n",
    "5. [Wyliczenie zmiennych wyjaśnianych](#zmienne)\n",
    "5. [Statystyki opisowe](#opisowe)\n",
    "6. [Wykresy podstawowe w pandas](#wykresy)\n",
    "***\n",
    "***"
   ]
  },
  {
   "cell_type": "markdown",
   "metadata": {},
   "source": [
    "# <a id='dtypes'>Typy danych, zamiana nazw kolumn </a> \n",
    "1. Sprawdź poprawność przypisania typów danych w zbiorze\n",
    "2. Popraw niewłaściwe przypisanie typów, przypisz minimalne wielkościowo typy, sprawdź poprawność korekty (każdy)\n",
    "    1. Wczytaj dane od poziomu csv z poprawnym słownikiem typów (opcjonalne)\n",
    "    2. Wykonaj zadanie 2 z użyciem method chaining (opcjonalne)\n",
    "3. Zamień nazwy kolumn na nieposiadające polskich znaków (każdy)\n",
    "    1. Rozszerz method chaining z punktu 2b o zamianę nazw (opcjonalne)"
   ]
  },
  {
   "cell_type": "code",
   "execution_count": null,
   "metadata": {},
   "outputs": [],
   "source": [
    "# Zadanie 1 \n"
   ]
  },
  {
   "cell_type": "code",
   "execution_count": null,
   "metadata": {},
   "outputs": [],
   "source": [
    "# Zadanie 2\n"
   ]
  },
  {
   "cell_type": "code",
   "execution_count": null,
   "metadata": {},
   "outputs": [],
   "source": [
    "# Zadanie 2A\n"
   ]
  },
  {
   "cell_type": "code",
   "execution_count": null,
   "metadata": {},
   "outputs": [],
   "source": [
    "# Zadanie 2B\n"
   ]
  },
  {
   "cell_type": "code",
   "execution_count": null,
   "metadata": {},
   "outputs": [],
   "source": [
    "# Zadanie 3\n"
   ]
  },
  {
   "cell_type": "code",
   "execution_count": null,
   "metadata": {},
   "outputs": [],
   "source": [
    "# Zadanie 3A\n"
   ]
  },
  {
   "cell_type": "markdown",
   "metadata": {},
   "source": [
    "# <a id='braki'>Braki danych</a> \n",
    "1. Sprawdź liczbę braków danych dla każdej z kolumn\n",
    "2. Sprawdź czy braki mają charakter row-wise, czy colum-wise z użyciem biblioteki missingno\n",
    "3. Dla braków column-wise zbadaj jakie wartości są przyjmowane w wypełnionych polach (gdy dużo braków) oraz co charakteryzuje te braki (gdy mało braków)\n",
    "4. Podejmij decyzję co do sposobu czyszczenia braków\n",
    "5. Wyświetl wykres słupkowy przedstawiający odsetek braków dla każdej z kolumn, posortowane w kolejności malejącej (opcjonalne)"
   ]
  },
  {
   "cell_type": "code",
   "execution_count": null,
   "metadata": {},
   "outputs": [],
   "source": [
    "# Zadanie 1\n"
   ]
  },
  {
   "cell_type": "code",
   "execution_count": null,
   "metadata": {},
   "outputs": [],
   "source": [
    "# Zadanie 2\n"
   ]
  },
  {
   "cell_type": "code",
   "execution_count": null,
   "metadata": {},
   "outputs": [],
   "source": [
    "# Zadanie 3\n"
   ]
  },
  {
   "cell_type": "code",
   "execution_count": null,
   "metadata": {
    "scrolled": true
   },
   "outputs": [],
   "source": [
    "# Zadanie 3 cd.\n"
   ]
  },
  {
   "cell_type": "markdown",
   "metadata": {},
   "source": [
    "**Zadanie 4** <br>\n",
    "<<br>bla, bla, bla<br> Tu wpisz swoje decyzje <br>>"
   ]
  },
  {
   "cell_type": "code",
   "execution_count": null,
   "metadata": {},
   "outputs": [],
   "source": [
    "# Zadanie 5\n"
   ]
  },
  {
   "cell_type": "markdown",
   "metadata": {},
   "source": [
    "# <a id='duplikaty'>Duplikaty danych</a> \n",
    "1. Sprawdź liczbę duplikatów w danych\n",
    "2. Wykorzystaj metodę duplicated do sporządzenia dataframe składającego się ze wszystkich dat, kiedy miał miejsce tylko jeden przejazd; posortuj ją rosnąco; wyświetl pierwsze 10 wierszy"
   ]
  },
  {
   "cell_type": "code",
   "execution_count": null,
   "metadata": {},
   "outputs": [],
   "source": [
    "# Zadanie 1\n"
   ]
  },
  {
   "cell_type": "code",
   "execution_count": null,
   "metadata": {
    "scrolled": false
   },
   "outputs": [],
   "source": [
    "# Zadanie 2\n"
   ]
  },
  {
   "cell_type": "markdown",
   "metadata": {},
   "source": [
    "# <a id='czyszczenie'>Wstępne czyszczenie</a> \n",
    "1. Zastosuj przekształcenia czyszczące braki/duplikaty, które wymyśliłeś w poprzednich krokach (każdy)\n",
    "    1. Dołącz przekształcenia do ciągu method chaining (opcjonalne)"
   ]
  },
  {
   "cell_type": "code",
   "execution_count": null,
   "metadata": {},
   "outputs": [],
   "source": [
    "# Zadanie 1\n"
   ]
  },
  {
   "cell_type": "code",
   "execution_count": null,
   "metadata": {},
   "outputs": [],
   "source": [
    "# zadanie 1A\n"
   ]
  },
  {
   "cell_type": "markdown",
   "metadata": {},
   "source": [
    "# <a id='zmienne'>Wyliczenie zmiennych wyjaśnianych</a> \n",
    "PZU postanawia ubezpieczyć szkody moralne wyniające z użytkowania PKP. Jeśli opóźnienie przekroczy 10 minut (opóźnienie > 10min), PZU wypłaci 50% ceny biletu. Jeśli przekroczy 30 minut (opóźnienie > 30min), zwróci pełny koszt biletu.\n",
    "1. Stwórz zmienną określającą wystąpienie szkody \n",
    "2. Stwórz zmienną określającą wielkość szkody\n",
    "3. Rozszerz ciąg method chaining o wyliczone zmienne (opcjonalne)"
   ]
  },
  {
   "cell_type": "code",
   "execution_count": null,
   "metadata": {},
   "outputs": [],
   "source": [
    "# Zadanie 1\n"
   ]
  },
  {
   "cell_type": "code",
   "execution_count": null,
   "metadata": {},
   "outputs": [],
   "source": [
    "# Zadanie 2\n"
   ]
  },
  {
   "cell_type": "code",
   "execution_count": null,
   "metadata": {},
   "outputs": [],
   "source": [
    "# Zadanie 3\n"
   ]
  },
  {
   "cell_type": "markdown",
   "metadata": {},
   "source": [
    "# <a id='opisowe'>Statystyki opisowe</a> \n",
    "1. Wyświetl statystyki opisowe zmiennych ciągłych obejmujące percentyle: 33% 50% 66% 90%\n",
    "2. Wyświetl statystyki opisowe zmiennych kategorialnych\n",
    "3. Dla zmiennych kategorialnych wyświetl liczebności poszczególnych kategorii\n",
    "4. Wyświetl wykres zawierający liczbę unikalnych kategorii dla każdej ze zmiennych ciągłych (opcjonalne)"
   ]
  },
  {
   "cell_type": "code",
   "execution_count": null,
   "metadata": {},
   "outputs": [],
   "source": [
    "# Zadanie 1\n"
   ]
  },
  {
   "cell_type": "code",
   "execution_count": null,
   "metadata": {},
   "outputs": [],
   "source": [
    "# Zadanie 2\n"
   ]
  },
  {
   "cell_type": "code",
   "execution_count": null,
   "metadata": {},
   "outputs": [],
   "source": [
    "# Zadanie 3\n"
   ]
  },
  {
   "cell_type": "code",
   "execution_count": null,
   "metadata": {},
   "outputs": [],
   "source": [
    "# Zadanie 5\n"
   ]
  },
  {
   "cell_type": "markdown",
   "metadata": {},
   "source": [
    "# <a id='wykresy'>Wykresy podstawowe w pandas</a> \n",
    "1. Wyświetl wykresy rozrzutu zmiennych ciągłych (każdy)\n",
    "    1. Posortuj dane według daty i wykreśl wykresy rozrzutu ponownie (opcjonalne)\n",
    "2. Wyświetl histogramy rozkładu zmiennych ciągłych\n",
    "3. Wyświetl wartości opóżnienń (na starcie i mecie) oraz wielkości wypłaty w zależności od dnia podróży (na jednym wykresie, posortowne datami)\n",
    "4. Wyświetl wykresy pudełkowe pokazujące różnice w wypłaconym odszkodowaniu dla miast startu: Warszawa, Gdańsk, inne (każde miasto osobny wykres) oraz dla każdego typu pociągu (podział wewnątrz wykresu)\n",
    "5. Wyświetl wykres punktowy pokazujący zależność między opóźnieniem na starcie, a opóźnieniem na mecie z poszczególnymi rodzajami pociągu zaznaczonymi odmiennymi kolorami z palety \"viridis\""
   ]
  },
  {
   "cell_type": "code",
   "execution_count": null,
   "metadata": {},
   "outputs": [],
   "source": [
    "# Zadanie 1\n"
   ]
  },
  {
   "cell_type": "code",
   "execution_count": null,
   "metadata": {},
   "outputs": [],
   "source": [
    "# Zadanie 1A\n"
   ]
  },
  {
   "cell_type": "code",
   "execution_count": null,
   "metadata": {},
   "outputs": [],
   "source": [
    "# Zadanie 2\n"
   ]
  },
  {
   "cell_type": "code",
   "execution_count": null,
   "metadata": {},
   "outputs": [],
   "source": [
    "# Zadanie 3\n"
   ]
  },
  {
   "cell_type": "code",
   "execution_count": null,
   "metadata": {},
   "outputs": [],
   "source": [
    "# Zadanie 4\n"
   ]
  },
  {
   "cell_type": "code",
   "execution_count": null,
   "metadata": {},
   "outputs": [],
   "source": [
    "# Zadanie 5\n"
   ]
  },
  {
   "cell_type": "code",
   "execution_count": null,
   "metadata": {},
   "outputs": [],
   "source": []
  }
 ],
 "metadata": {
  "kernelspec": {
   "display_name": "Python 3",
   "language": "python",
   "name": "python3"
  },
  "language_info": {
   "codemirror_mode": {
    "name": "ipython",
    "version": 3
   },
   "file_extension": ".py",
   "mimetype": "text/x-python",
   "name": "python",
   "nbconvert_exporter": "python",
   "pygments_lexer": "ipython3",
   "version": "3.7.4"
  }
 },
 "nbformat": 4,
 "nbformat_minor": 2
}
